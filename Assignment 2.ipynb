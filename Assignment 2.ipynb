{
 "cells": [
  {
   "cell_type": "code",
   "execution_count": 2,
   "metadata": {},
   "outputs": [],
   "source": [
    "import pandas as pd"
   ]
  },
  {
   "cell_type": "code",
   "execution_count": 3,
   "metadata": {},
   "outputs": [],
   "source": [
    "import urllib\n",
    "%matplotlib inline"
   ]
  },
  {
   "cell_type": "code",
   "execution_count": 4,
   "metadata": {},
   "outputs": [],
   "source": [
    "dir = '../resources/data/'"
   ]
  },
  {
   "cell_type": "code",
   "execution_count": 5,
   "metadata": {},
   "outputs": [],
   "source": [
    "#download dataset from source https://github.com/planetsig/ufo-reports\n",
    "url = 'https://github.com/planetsig/ufo-reports/raw/master/csv-data/ufo-scrubbed-geocoded-time-standardized.csv'\n",
    "response = urllib.request.urlopen(url)\n",
    "data = response.read()\n",
    "with open(dir + 'ufo-complete-geocoded-time-standardized.csv', 'wb') as f:\n",
    "    f.write(data)"
   ]
  },
  {
   "cell_type": "code",
   "execution_count": 6,
   "metadata": {},
   "outputs": [
    {
     "name": "stderr",
     "output_type": "stream",
     "text": [
      "C:\\Users\\tholl\\Anaconda3\\lib\\site-packages\\IPython\\core\\interactiveshell.py:3020: DtypeWarning: Columns (5,9) have mixed types. Specify dtype option on import or set low_memory=False.\n",
      "  interactivity=interactivity, compiler=compiler, result=result)\n"
     ]
    }
   ],
   "source": [
    "#read data into dataframe\n",
    "df = pd.read_csv(dir + 'ufo-complete-geocoded-time-standardized.csv', \n",
    "                 names = ['datetime', 'city', 'state', 'country', 'shape', 'duration (seconds)', \n",
    "                          'duration (hours/minutes)', 'comments', 'date posted', 'latitude', 'longitude'])"
   ]
  },
  {
   "cell_type": "code",
   "execution_count": 7,
   "metadata": {},
   "outputs": [],
   "source": [
    "#convert duration (seconds) to float\n",
    "df['duration (seconds)'] = pd.to_numeric(df['duration (seconds)'], errors='coerce')\n",
    "\n",
    "#convert date posted to datetime\n",
    "df['date posted'] = pd.to_datetime(df['date posted'])"
   ]
  },
  {
   "cell_type": "code",
   "execution_count": 8,
   "metadata": {},
   "outputs": [
    {
     "data": {
      "text/html": [
       "<div>\n",
       "<style scoped>\n",
       "    .dataframe tbody tr th:only-of-type {\n",
       "        vertical-align: middle;\n",
       "    }\n",
       "\n",
       "    .dataframe tbody tr th {\n",
       "        vertical-align: top;\n",
       "    }\n",
       "\n",
       "    .dataframe thead th {\n",
       "        text-align: right;\n",
       "    }\n",
       "</style>\n",
       "<table border=\"1\" class=\"dataframe\">\n",
       "  <thead>\n",
       "    <tr style=\"text-align: right;\">\n",
       "      <th></th>\n",
       "      <th>datetime</th>\n",
       "      <th>city</th>\n",
       "      <th>state</th>\n",
       "      <th>country</th>\n",
       "      <th>shape</th>\n",
       "      <th>duration (seconds)</th>\n",
       "      <th>duration (hours/minutes)</th>\n",
       "      <th>comments</th>\n",
       "      <th>date posted</th>\n",
       "      <th>latitude</th>\n",
       "      <th>longitude</th>\n",
       "    </tr>\n",
       "  </thead>\n",
       "  <tbody>\n",
       "    <tr>\n",
       "      <th>0</th>\n",
       "      <td>10/10/1949 20:30</td>\n",
       "      <td>san marcos</td>\n",
       "      <td>tx</td>\n",
       "      <td>us</td>\n",
       "      <td>cylinder</td>\n",
       "      <td>2700.0</td>\n",
       "      <td>45 minutes</td>\n",
       "      <td>This event took place in early fall around 194...</td>\n",
       "      <td>2004-04-27</td>\n",
       "      <td>29.8830556</td>\n",
       "      <td>-97.941111</td>\n",
       "    </tr>\n",
       "    <tr>\n",
       "      <th>1</th>\n",
       "      <td>10/10/1949 21:00</td>\n",
       "      <td>lackland afb</td>\n",
       "      <td>tx</td>\n",
       "      <td>NaN</td>\n",
       "      <td>light</td>\n",
       "      <td>7200.0</td>\n",
       "      <td>1-2 hrs</td>\n",
       "      <td>1949 Lackland AFB&amp;#44 TX.  Lights racing acros...</td>\n",
       "      <td>2005-12-16</td>\n",
       "      <td>29.38421</td>\n",
       "      <td>-98.581082</td>\n",
       "    </tr>\n",
       "    <tr>\n",
       "      <th>2</th>\n",
       "      <td>10/10/1955 17:00</td>\n",
       "      <td>chester (uk/england)</td>\n",
       "      <td>NaN</td>\n",
       "      <td>gb</td>\n",
       "      <td>circle</td>\n",
       "      <td>20.0</td>\n",
       "      <td>20 seconds</td>\n",
       "      <td>Green/Orange circular disc over Chester&amp;#44 En...</td>\n",
       "      <td>2008-01-21</td>\n",
       "      <td>53.2</td>\n",
       "      <td>-2.916667</td>\n",
       "    </tr>\n",
       "    <tr>\n",
       "      <th>3</th>\n",
       "      <td>10/10/1956 21:00</td>\n",
       "      <td>edna</td>\n",
       "      <td>tx</td>\n",
       "      <td>us</td>\n",
       "      <td>circle</td>\n",
       "      <td>20.0</td>\n",
       "      <td>1/2 hour</td>\n",
       "      <td>My older brother and twin sister were leaving ...</td>\n",
       "      <td>2004-01-17</td>\n",
       "      <td>28.9783333</td>\n",
       "      <td>-96.645833</td>\n",
       "    </tr>\n",
       "    <tr>\n",
       "      <th>4</th>\n",
       "      <td>10/10/1960 20:00</td>\n",
       "      <td>kaneohe</td>\n",
       "      <td>hi</td>\n",
       "      <td>us</td>\n",
       "      <td>light</td>\n",
       "      <td>900.0</td>\n",
       "      <td>15 minutes</td>\n",
       "      <td>AS a Marine 1st Lt. flying an FJ4B fighter/att...</td>\n",
       "      <td>2004-01-22</td>\n",
       "      <td>21.4180556</td>\n",
       "      <td>-157.803611</td>\n",
       "    </tr>\n",
       "    <tr>\n",
       "      <th>5</th>\n",
       "      <td>10/10/1961 19:00</td>\n",
       "      <td>bristol</td>\n",
       "      <td>tn</td>\n",
       "      <td>us</td>\n",
       "      <td>sphere</td>\n",
       "      <td>300.0</td>\n",
       "      <td>5 minutes</td>\n",
       "      <td>My father is now 89 my brother 52 the girl wit...</td>\n",
       "      <td>2007-04-27</td>\n",
       "      <td>36.5950000</td>\n",
       "      <td>-82.188889</td>\n",
       "    </tr>\n",
       "    <tr>\n",
       "      <th>6</th>\n",
       "      <td>10/10/1965 21:00</td>\n",
       "      <td>penarth (uk/wales)</td>\n",
       "      <td>NaN</td>\n",
       "      <td>gb</td>\n",
       "      <td>circle</td>\n",
       "      <td>180.0</td>\n",
       "      <td>about 3 mins</td>\n",
       "      <td>penarth uk  circle  3mins  stayed 30ft above m...</td>\n",
       "      <td>2006-02-14</td>\n",
       "      <td>51.434722</td>\n",
       "      <td>-3.180000</td>\n",
       "    </tr>\n",
       "    <tr>\n",
       "      <th>7</th>\n",
       "      <td>10/10/1965 23:45</td>\n",
       "      <td>norwalk</td>\n",
       "      <td>ct</td>\n",
       "      <td>us</td>\n",
       "      <td>disk</td>\n",
       "      <td>1200.0</td>\n",
       "      <td>20 minutes</td>\n",
       "      <td>A bright orange color changing to reddish colo...</td>\n",
       "      <td>1999-10-02</td>\n",
       "      <td>41.1175000</td>\n",
       "      <td>-73.408333</td>\n",
       "    </tr>\n",
       "    <tr>\n",
       "      <th>8</th>\n",
       "      <td>10/10/1966 20:00</td>\n",
       "      <td>pell city</td>\n",
       "      <td>al</td>\n",
       "      <td>us</td>\n",
       "      <td>disk</td>\n",
       "      <td>180.0</td>\n",
       "      <td>3  minutes</td>\n",
       "      <td>Strobe Lighted disk shape object observed clos...</td>\n",
       "      <td>2009-03-19</td>\n",
       "      <td>33.5861111</td>\n",
       "      <td>-86.286111</td>\n",
       "    </tr>\n",
       "    <tr>\n",
       "      <th>9</th>\n",
       "      <td>10/10/1966 21:00</td>\n",
       "      <td>live oak</td>\n",
       "      <td>fl</td>\n",
       "      <td>us</td>\n",
       "      <td>disk</td>\n",
       "      <td>120.0</td>\n",
       "      <td>several minutes</td>\n",
       "      <td>Saucer zaps energy from powerline as my pregna...</td>\n",
       "      <td>2005-05-11</td>\n",
       "      <td>30.2947222</td>\n",
       "      <td>-82.984167</td>\n",
       "    </tr>\n",
       "  </tbody>\n",
       "</table>\n",
       "</div>"
      ],
      "text/plain": [
       "           datetime                  city state country     shape  \\\n",
       "0  10/10/1949 20:30            san marcos    tx      us  cylinder   \n",
       "1  10/10/1949 21:00          lackland afb    tx     NaN     light   \n",
       "2  10/10/1955 17:00  chester (uk/england)   NaN      gb    circle   \n",
       "3  10/10/1956 21:00                  edna    tx      us    circle   \n",
       "4  10/10/1960 20:00               kaneohe    hi      us     light   \n",
       "5  10/10/1961 19:00               bristol    tn      us    sphere   \n",
       "6  10/10/1965 21:00    penarth (uk/wales)   NaN      gb    circle   \n",
       "7  10/10/1965 23:45               norwalk    ct      us      disk   \n",
       "8  10/10/1966 20:00             pell city    al      us      disk   \n",
       "9  10/10/1966 21:00              live oak    fl      us      disk   \n",
       "\n",
       "   duration (seconds) duration (hours/minutes)  \\\n",
       "0              2700.0               45 minutes   \n",
       "1              7200.0                  1-2 hrs   \n",
       "2                20.0               20 seconds   \n",
       "3                20.0                 1/2 hour   \n",
       "4               900.0               15 minutes   \n",
       "5               300.0                5 minutes   \n",
       "6               180.0             about 3 mins   \n",
       "7              1200.0               20 minutes   \n",
       "8               180.0               3  minutes   \n",
       "9               120.0          several minutes   \n",
       "\n",
       "                                            comments date posted    latitude  \\\n",
       "0  This event took place in early fall around 194...  2004-04-27  29.8830556   \n",
       "1  1949 Lackland AFB&#44 TX.  Lights racing acros...  2005-12-16    29.38421   \n",
       "2  Green/Orange circular disc over Chester&#44 En...  2008-01-21        53.2   \n",
       "3  My older brother and twin sister were leaving ...  2004-01-17  28.9783333   \n",
       "4  AS a Marine 1st Lt. flying an FJ4B fighter/att...  2004-01-22  21.4180556   \n",
       "5  My father is now 89 my brother 52 the girl wit...  2007-04-27  36.5950000   \n",
       "6  penarth uk  circle  3mins  stayed 30ft above m...  2006-02-14   51.434722   \n",
       "7  A bright orange color changing to reddish colo...  1999-10-02  41.1175000   \n",
       "8  Strobe Lighted disk shape object observed clos...  2009-03-19  33.5861111   \n",
       "9  Saucer zaps energy from powerline as my pregna...  2005-05-11  30.2947222   \n",
       "\n",
       "    longitude  \n",
       "0  -97.941111  \n",
       "1  -98.581082  \n",
       "2   -2.916667  \n",
       "3  -96.645833  \n",
       "4 -157.803611  \n",
       "5  -82.188889  \n",
       "6   -3.180000  \n",
       "7  -73.408333  \n",
       "8  -86.286111  \n",
       "9  -82.984167  "
      ]
     },
     "execution_count": 8,
     "metadata": {},
     "output_type": "execute_result"
    }
   ],
   "source": [
    "df.head(10)"
   ]
  },
  {
   "cell_type": "markdown",
   "metadata": {},
   "source": [
    "**Question 1** What is the most common 'shape' of a ufo seen?"
   ]
  },
  {
   "cell_type": "code",
   "execution_count": 9,
   "metadata": {},
   "outputs": [
    {
     "name": "stdout",
     "output_type": "stream",
     "text": [
      "light        16565\n",
      "triangle      7865\n",
      "circle        7608\n",
      "fireball      6208\n",
      "other         5649\n",
      "unknown       5584\n",
      "sphere        5387\n",
      "disk          5213\n",
      "oval          3733\n",
      "formation     2457\n",
      "cigar         2057\n",
      "changing      1962\n",
      "flash         1328\n",
      "rectangle     1297\n",
      "cylinder      1283\n",
      "diamond       1178\n",
      "chevron        952\n",
      "egg            759\n",
      "teardrop       750\n",
      "cone           316\n",
      "cross          233\n",
      "delta            7\n",
      "round            2\n",
      "crescent         2\n",
      "hexagon          1\n",
      "pyramid          1\n",
      "dome             1\n",
      "changed          1\n",
      "flare            1\n",
      "Name: shape, dtype: int64\n",
      "most common shape is light\n"
     ]
    }
   ],
   "source": [
    "ufo_shapes = df['shape'].value_counts()\n",
    "print(ufo_shapes)\n",
    "print(\"most common shape is light\")"
   ]
  },
  {
   "cell_type": "markdown",
   "metadata": {},
   "source": [
    "**Question 2** When was the first sighting? note: use the 'datetime' column"
   ]
  },
  {
   "cell_type": "code",
   "execution_count": 10,
   "metadata": {},
   "outputs": [
    {
     "data": {
      "text/html": [
       "<div>\n",
       "<style scoped>\n",
       "    .dataframe tbody tr th:only-of-type {\n",
       "        vertical-align: middle;\n",
       "    }\n",
       "\n",
       "    .dataframe tbody tr th {\n",
       "        vertical-align: top;\n",
       "    }\n",
       "\n",
       "    .dataframe thead th {\n",
       "        text-align: right;\n",
       "    }\n",
       "</style>\n",
       "<table border=\"1\" class=\"dataframe\">\n",
       "  <thead>\n",
       "    <tr style=\"text-align: right;\">\n",
       "      <th></th>\n",
       "      <th>datetime</th>\n",
       "      <th>city</th>\n",
       "      <th>state</th>\n",
       "      <th>country</th>\n",
       "      <th>shape</th>\n",
       "      <th>duration (seconds)</th>\n",
       "      <th>duration (hours/minutes)</th>\n",
       "      <th>comments</th>\n",
       "      <th>date posted</th>\n",
       "      <th>latitude</th>\n",
       "      <th>longitude</th>\n",
       "    </tr>\n",
       "  </thead>\n",
       "  <tbody>\n",
       "    <tr>\n",
       "      <th>10580</th>\n",
       "      <td>1/1/1910 24:00</td>\n",
       "      <td>kirksville (near)</td>\n",
       "      <td>mo</td>\n",
       "      <td>us</td>\n",
       "      <td>disk</td>\n",
       "      <td>120.0</td>\n",
       "      <td>minutes</td>\n",
       "      <td>Historical sighting (1903 - 1913) Northern Mis...</td>\n",
       "      <td>2005-09-15</td>\n",
       "      <td>40.1947222</td>\n",
       "      <td>-92.583056</td>\n",
       "    </tr>\n",
       "  </tbody>\n",
       "</table>\n",
       "</div>"
      ],
      "text/plain": [
       "             datetime               city state country shape  \\\n",
       "10580  1/1/1910 24:00  kirksville (near)    mo      us  disk   \n",
       "\n",
       "       duration (seconds) duration (hours/minutes)  \\\n",
       "10580               120.0                  minutes   \n",
       "\n",
       "                                                comments date posted  \\\n",
       "10580  Historical sighting (1903 - 1913) Northern Mis...  2005-09-15   \n",
       "\n",
       "         latitude  longitude  \n",
       "10580  40.1947222 -92.583056  "
      ]
     },
     "execution_count": 10,
     "metadata": {},
     "output_type": "execute_result"
    }
   ],
   "source": [
    "from datetime import datetime\n",
    "df.sort_values('datetime', inplace=True)\n",
    "df.head(1)"
   ]
  },
  {
   "cell_type": "markdown",
   "metadata": {},
   "source": [
    "**Question 3** What is the average length of a sighting?"
   ]
  },
  {
   "cell_type": "code",
   "execution_count": 11,
   "metadata": {},
   "outputs": [
    {
     "data": {
      "text/plain": [
       "9017.225634092296"
      ]
     },
     "execution_count": 11,
     "metadata": {},
     "output_type": "execute_result"
    }
   ],
   "source": [
    "df['duration (seconds)'].mean()"
   ]
  },
  {
   "cell_type": "markdown",
   "metadata": {},
   "source": [
    "**Question 4** How many sightings were over 3 minutes?"
   ]
  },
  {
   "cell_type": "code",
   "execution_count": 12,
   "metadata": {},
   "outputs": [
    {
     "data": {
      "text/plain": [
       "37685"
      ]
     },
     "execution_count": 12,
     "metadata": {},
     "output_type": "execute_result"
    }
   ],
   "source": [
    "df[(df['duration (seconds)'] > 180)].shape[0]"
   ]
  },
  {
   "cell_type": "markdown",
   "metadata": {},
   "source": [
    "**Question 5**: Of the sightings that were over 3 minutes, how many were in NJ?"
   ]
  },
  {
   "cell_type": "code",
   "execution_count": 13,
   "metadata": {},
   "outputs": [
    {
     "data": {
      "text/plain": [
       "686"
      ]
     },
     "execution_count": 13,
     "metadata": {},
     "output_type": "execute_result"
    }
   ],
   "source": [
    "df[(df['duration (seconds)'] > 180) & (df['state'] == 'nj')].shape[0]"
   ]
  },
  {
   "cell_type": "markdown",
   "metadata": {},
   "source": [
    "**Question 6**: What state has the most ufo sightings?"
   ]
  },
  {
   "cell_type": "code",
   "execution_count": 15,
   "metadata": {},
   "outputs": [
    {
     "data": {
      "text/plain": [
       "ca    9655\n",
       "Name: state, dtype: int64"
      ]
     },
     "execution_count": 15,
     "metadata": {},
     "output_type": "execute_result"
    }
   ],
   "source": [
    "df['state'].value_counts().head(1)"
   ]
  },
  {
   "cell_type": "markdown",
   "metadata": {},
   "source": [
    "**Question 7**: Can you change the column header 'shape' to be called 'ufo shape'? Note we did not go over this in class. You will need to look through the documentation (http://pandas.pydata.org/pandas-docs/stable/)"
   ]
  },
  {
   "cell_type": "code",
   "execution_count": 17,
   "metadata": {},
   "outputs": [
    {
     "data": {
      "text/html": [
       "<div>\n",
       "<style scoped>\n",
       "    .dataframe tbody tr th:only-of-type {\n",
       "        vertical-align: middle;\n",
       "    }\n",
       "\n",
       "    .dataframe tbody tr th {\n",
       "        vertical-align: top;\n",
       "    }\n",
       "\n",
       "    .dataframe thead th {\n",
       "        text-align: right;\n",
       "    }\n",
       "</style>\n",
       "<table border=\"1\" class=\"dataframe\">\n",
       "  <thead>\n",
       "    <tr style=\"text-align: right;\">\n",
       "      <th></th>\n",
       "      <th>datetime</th>\n",
       "      <th>city</th>\n",
       "      <th>state</th>\n",
       "      <th>country</th>\n",
       "      <th>ufo shape</th>\n",
       "      <th>duration (seconds)</th>\n",
       "      <th>duration (hours/minutes)</th>\n",
       "      <th>comments</th>\n",
       "      <th>date posted</th>\n",
       "      <th>latitude</th>\n",
       "      <th>longitude</th>\n",
       "    </tr>\n",
       "  </thead>\n",
       "  <tbody>\n",
       "    <tr>\n",
       "      <th>10580</th>\n",
       "      <td>1/1/1910 24:00</td>\n",
       "      <td>kirksville (near)</td>\n",
       "      <td>mo</td>\n",
       "      <td>us</td>\n",
       "      <td>disk</td>\n",
       "      <td>120.0</td>\n",
       "      <td>minutes</td>\n",
       "      <td>Historical sighting (1903 - 1913) Northern Mis...</td>\n",
       "      <td>2005-09-15</td>\n",
       "      <td>40.1947222</td>\n",
       "      <td>-92.583056</td>\n",
       "    </tr>\n",
       "    <tr>\n",
       "      <th>10813</th>\n",
       "      <td>1/1/1944 12:00</td>\n",
       "      <td>san diego</td>\n",
       "      <td>ca</td>\n",
       "      <td>us</td>\n",
       "      <td>cigar</td>\n",
       "      <td>180.0</td>\n",
       "      <td>3 minutes</td>\n",
       "      <td>A sighting of one silver or white enlongated c...</td>\n",
       "      <td>2004-07-25</td>\n",
       "      <td>32.7152778</td>\n",
       "      <td>-117.156389</td>\n",
       "    </tr>\n",
       "    <tr>\n",
       "      <th>10814</th>\n",
       "      <td>1/1/1947 17:00</td>\n",
       "      <td>manama (bahrain)</td>\n",
       "      <td>NaN</td>\n",
       "      <td>NaN</td>\n",
       "      <td>circle</td>\n",
       "      <td>300.0</td>\n",
       "      <td>5 minutes</td>\n",
       "      <td>Slow  moving circular craft&amp;#44 15 whitnesses&amp;...</td>\n",
       "      <td>2009-03-19</td>\n",
       "      <td>26.216667</td>\n",
       "      <td>50.583333</td>\n",
       "    </tr>\n",
       "    <tr>\n",
       "      <th>10815</th>\n",
       "      <td>1/1/1953 14:00</td>\n",
       "      <td>oklahoma/texas border</td>\n",
       "      <td>tx</td>\n",
       "      <td>NaN</td>\n",
       "      <td>cigar</td>\n",
       "      <td>300.0</td>\n",
       "      <td>5 minutes</td>\n",
       "      <td>Copper cigar-shaped object in early 1950&amp;#39s.</td>\n",
       "      <td>2008-03-31</td>\n",
       "      <td>33.660135</td>\n",
       "      <td>-97.715556</td>\n",
       "    </tr>\n",
       "    <tr>\n",
       "      <th>10816</th>\n",
       "      <td>1/1/1953 24:00</td>\n",
       "      <td>nebraska (rural)</td>\n",
       "      <td>ne</td>\n",
       "      <td>NaN</td>\n",
       "      <td>NaN</td>\n",
       "      <td>600.0</td>\n",
       "      <td>10 min</td>\n",
       "      <td>This is an account told to me by my mother tha...</td>\n",
       "      <td>2005-04-16</td>\n",
       "      <td>41.492537</td>\n",
       "      <td>-99.901813</td>\n",
       "    </tr>\n",
       "  </tbody>\n",
       "</table>\n",
       "</div>"
      ],
      "text/plain": [
       "             datetime                   city state country ufo shape  \\\n",
       "10580  1/1/1910 24:00      kirksville (near)    mo      us      disk   \n",
       "10813  1/1/1944 12:00              san diego    ca      us     cigar   \n",
       "10814  1/1/1947 17:00       manama (bahrain)   NaN     NaN    circle   \n",
       "10815  1/1/1953 14:00  oklahoma/texas border    tx     NaN     cigar   \n",
       "10816  1/1/1953 24:00       nebraska (rural)    ne     NaN       NaN   \n",
       "\n",
       "       duration (seconds) duration (hours/minutes)  \\\n",
       "10580               120.0                  minutes   \n",
       "10813               180.0                3 minutes   \n",
       "10814               300.0                5 minutes   \n",
       "10815               300.0                5 minutes   \n",
       "10816               600.0                   10 min   \n",
       "\n",
       "                                                comments date posted  \\\n",
       "10580  Historical sighting (1903 - 1913) Northern Mis...  2005-09-15   \n",
       "10813  A sighting of one silver or white enlongated c...  2004-07-25   \n",
       "10814  Slow  moving circular craft&#44 15 whitnesses&...  2009-03-19   \n",
       "10815     Copper cigar-shaped object in early 1950&#39s.  2008-03-31   \n",
       "10816  This is an account told to me by my mother tha...  2005-04-16   \n",
       "\n",
       "         latitude   longitude  \n",
       "10580  40.1947222  -92.583056  \n",
       "10813  32.7152778 -117.156389  \n",
       "10814   26.216667   50.583333  \n",
       "10815   33.660135  -97.715556  \n",
       "10816   41.492537  -99.901813  "
      ]
     },
     "execution_count": 17,
     "metadata": {},
     "output_type": "execute_result"
    }
   ],
   "source": [
    "df = df.rename(columns={'shape': 'ufo shape'})\n",
    "df.head()"
   ]
  },
  {
   "cell_type": "code",
   "execution_count": null,
   "metadata": {},
   "outputs": [],
   "source": []
  },
  {
   "cell_type": "code",
   "execution_count": null,
   "metadata": {},
   "outputs": [],
   "source": []
  },
  {
   "cell_type": "code",
   "execution_count": null,
   "metadata": {},
   "outputs": [],
   "source": []
  }
 ],
 "metadata": {
  "kernelspec": {
   "display_name": "Python 3",
   "language": "python",
   "name": "python3"
  },
  "language_info": {
   "codemirror_mode": {
    "name": "ipython",
    "version": 3
   },
   "file_extension": ".py",
   "mimetype": "text/x-python",
   "name": "python",
   "nbconvert_exporter": "python",
   "pygments_lexer": "ipython3",
   "version": "3.7.1"
  }
 },
 "nbformat": 4,
 "nbformat_minor": 2
}
